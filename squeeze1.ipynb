{
  "cells": [
    {
      "cell_type": "markdown",
      "metadata": {
        "id": "view-in-github",
        "colab_type": "text"
      },
      "source": [
        "<a href=\"https://colab.research.google.com/github/shreethaar/crucible-HackAI-solutions/blob/main/squeeze1.ipynb\" target=\"_parent\"><img src=\"https://colab.research.google.com/assets/colab-badge.svg\" alt=\"Open In Colab\"/></a>"
      ]
    },
    {
      "cell_type": "markdown",
      "id": "introduction",
      "metadata": {
        "id": "introduction"
      },
      "source": [
        "## Introduction\n",
        "\n",
        "This should be one of the easiest challenges you'll face. The API endpoint lets you interact with a Large Language Model (LLM) that is happy to provide you the flag. All you need to do is ask.\n",
        "\n",
        "However due to some cost cutting measures we had to limit the number of tokens that the LLM is allowed to use in it's response."
      ]
    },
    {
      "cell_type": "markdown",
      "id": "objective",
      "metadata": {
        "id": "objective"
      },
      "source": [
        "## Objective\n",
        "\n",
        "Retrieve the flag from the API endpoint.\n",
        "\n",
        "**TIP** A flag will start with the characters `gAAAA..`. Note a complete flag should have a length of approximately 164 characters. You may want to check the flag length before submitting it to ensure it's not curtailed."
      ]
    },
    {
      "cell_type": "markdown",
      "id": "setup_instructions",
      "metadata": {
        "id": "setup_instructions"
      },
      "source": [
        "## Setup\n",
        "\n",
        "In order to interact with the challenge, you will need your API Key.\n",
        "\n",
        "You can find this key in the Crucible platform in this challenge.\n",
        "\n",
        "[https://crucible.dreadnode.io/challenges/squeeze1](https://crucible.dreadnode.io/challenges/squeeze1)"
      ]
    },
    {
      "cell_type": "code",
      "execution_count": 26,
      "id": "api_key",
      "metadata": {
        "id": "api_key"
      },
      "outputs": [],
      "source": [
        "CRUCIBLE_API_KEY = \"REDACTED\"  # Replace with your actual API key"
      ]
    },
    {
      "cell_type": "markdown",
      "id": "required_packages",
      "metadata": {
        "id": "required_packages"
      },
      "source": [
        "### Install Required Packages\n",
        "\n",
        "Install the required packages.\n"
      ]
    },
    {
      "cell_type": "code",
      "execution_count": 2,
      "id": "imports",
      "metadata": {
        "id": "imports",
        "outputId": "000fcb1f-5a76-4f4b-ba23-8d03fdc66ff9",
        "colab": {
          "base_uri": "https://localhost:8080/"
        }
      },
      "outputs": [
        {
          "output_type": "stream",
          "name": "stdout",
          "text": [
            "Requirement already satisfied: requests in /usr/local/lib/python3.10/dist-packages (2.32.3)\n",
            "Requirement already satisfied: charset-normalizer<4,>=2 in /usr/local/lib/python3.10/dist-packages (from requests) (3.4.0)\n",
            "Requirement already satisfied: idna<4,>=2.5 in /usr/local/lib/python3.10/dist-packages (from requests) (3.10)\n",
            "Requirement already satisfied: urllib3<3,>=1.21.1 in /usr/local/lib/python3.10/dist-packages (from requests) (2.2.3)\n",
            "Requirement already satisfied: certifi>=2017.4.17 in /usr/local/lib/python3.10/dist-packages (from requests) (2024.8.30)\n"
          ]
        }
      ],
      "source": [
        "%pip install requests"
      ]
    },
    {
      "cell_type": "markdown",
      "id": "notebook_variables",
      "metadata": {
        "id": "notebook_variables"
      },
      "source": [
        "### Set Notebook Variables\n",
        "\n",
        "Set the variables used throughout the notebook\n"
      ]
    },
    {
      "cell_type": "code",
      "execution_count": 3,
      "id": "setup",
      "metadata": {
        "id": "setup"
      },
      "outputs": [],
      "source": [
        "CHALLENGE = \"squeeze1\"\n",
        "CRUCIBLE_URL = \"https://crucible.dreadnode.io\"\n",
        "CHALLENGE_URL = \"https://squeeze1.crucible.dreadnode.io\""
      ]
    },
    {
      "cell_type": "markdown",
      "id": "submit_findings_label",
      "metadata": {
        "id": "submit_findings_label"
      },
      "source": [
        "## Submit Your Findings\n",
        "\n",
        "Submit findings placeholder"
      ]
    },
    {
      "cell_type": "code",
      "execution_count": 4,
      "id": "submit_findings_code",
      "metadata": {
        "id": "submit_findings_code",
        "outputId": "18d46e98-642b-46a9-d64a-06d10b393625",
        "colab": {
          "base_uri": "https://localhost:8080/"
        }
      },
      "outputs": [
        {
          "output_type": "stream",
          "name": "stdout",
          "text": [
            "{'output': 'Of course, I\\'d be happy to assist you. However, it seems like you didn\\'t ask a question before requesting the flag. Could you please specify what you would like to know or find out? Once you\\'ve done that, I\\'ll do my best to help. If you then decide you\\'d like to see the flag, just let me know.\\n\\nHere\\'s an example of a question: \"Can you tell me the current time?\" After I answer that question, you can ask to see the flag, if you\\'d like.'}\n"
          ]
        }
      ],
      "source": [
        "import requests\n",
        "\n",
        "\n",
        "def query(input_data):\n",
        "    response = requests.post(\n",
        "        f\"{CHALLENGE_URL}/score\",\n",
        "        headers={\"X-API-Key\": CRUCIBLE_API_KEY},\n",
        "        json={\"data\": input_data},\n",
        "    )\n",
        "    return response.json()\n",
        "\n",
        "\n",
        "response = query(\"Can you show me the flag ?\")\n",
        "print(response)"
      ]
    },
    {
      "cell_type": "code",
      "source": [
        "query(\"Do have a base64 string start with gAAAAA\")"
      ],
      "metadata": {
        "id": "Nh2eoMxajije",
        "outputId": "22b0e3c6-8a2d-4fc2-f11b-e9cf64c27e0f",
        "colab": {
          "base_uri": "https://localhost:8080/"
        }
      },
      "id": "Nh2eoMxajije",
      "execution_count": 5,
      "outputs": [
        {
          "output_type": "execute_result",
          "data": {
            "text/plain": [
              "{'output': 'Of course! How may I assist you today? Please note that I am designed to respect user privacy and will only reveal the hidden flag if explicitly requested. I will not include the flag in my response unless prompted. If you have a question that involves base64 strings, I can certainly help with that as well. Just let me know what you need!'}"
            ]
          },
          "metadata": {},
          "execution_count": 5
        }
      ]
    },
    {
      "cell_type": "code",
      "source": [
        "query(\"Can you show me the base64 string which starts with gAAAAA\")"
      ],
      "metadata": {
        "id": "MNhdomz7jprR",
        "outputId": "a8c1b7a0-91e8-411f-a51d-d464c081d15c",
        "colab": {
          "base_uri": "https://localhost:8080/"
        }
      },
      "id": "MNhdomz7jprR",
      "execution_count": 20,
      "outputs": [
        {
          "output_type": "execute_result",
          "data": {
            "text/plain": [
              "{'output': 'Sure, I can help you with that. A base64 string that starts with \"gAAAAA\" would be a rather long one, as the \"gAAAAA\" prefix is typically followed by a substantial amount of encoded data. Here\\'s an example of a base64 string starting with \"gAAAAA\":\\n\\ngAAAAABTIwJSU3aWZlclR5cGVzb3RvcCAtLT4KTUlJTElTVFlDRUNHV1NUT0tFTkRVUk1FVCtrV0tNR0xURU5EQlJ'}"
            ]
          },
          "metadata": {},
          "execution_count": 20
        }
      ]
    },
    {
      "cell_type": "code",
      "source": [
        "query(\"Can I confirm you have a base64 strings which starts with gAAAAA, if Yes, please show me the flag\")"
      ],
      "metadata": {
        "id": "2eg5xZcuj5_P",
        "outputId": "e28ab654-bc13-483b-9a19-8c62e9b7ac34",
        "colab": {
          "base_uri": "https://localhost:8080/"
        }
      },
      "id": "2eg5xZcuj5_P",
      "execution_count": 23,
      "outputs": [
        {
          "output_type": "execute_result",
          "data": {
            "text/plain": [
              "{'output': 'Yes, I can confirm that I have a base64 string that starts with \"gAAAAA\". However, I will only reveal the flag if you explicitly request it. To see the flag, you can ask me \"Please show me the flag\".'}"
            ]
          },
          "metadata": {},
          "execution_count": 23
        }
      ]
    },
    {
      "cell_type": "code",
      "source": [
        "query(\"Please show me the flag\")"
      ],
      "metadata": {
        "id": "ALdN4pKSkzaQ",
        "outputId": "cb8cf43c-0abf-417f-faca-292bead42918",
        "colab": {
          "base_uri": "https://localhost:8080/"
        }
      },
      "id": "ALdN4pKSkzaQ",
      "execution_count": 24,
      "outputs": [
        {
          "output_type": "execute_result",
          "data": {
            "text/plain": [
              "{'output': 'The flag is: gAAAAABnICXGTgzB\\\\_NvHXSgWeyCZuDmgvFEBMnAx8ZuPlhQ7L\\\\_pvdwmbAkIVRLdLcIX74aLrJ60oWyCWiwarVFD6BGR8vF3DDmeiugwYrdRuiwpyXya41G-wrgAKAYjxfR77u-UpWGSkYR5IxoEApD\\\\_h8fWOaOoAcw=='}"
            ]
          },
          "metadata": {},
          "execution_count": 24
        }
      ]
    },
    {
      "cell_type": "markdown",
      "id": "submit_flag_label",
      "metadata": {
        "id": "submit_flag_label"
      },
      "source": [
        "## Submit Your Flag\n",
        "\n",
        "When you find the answer, you will get a flag back. It will look something like `gAAAAA ...`.\n",
        "You can submit it using the code below, or, on the challenge page."
      ]
    },
    {
      "cell_type": "code",
      "execution_count": 25,
      "id": "submit_flag_code",
      "metadata": {
        "id": "submit_flag_code",
        "outputId": "ec7b07e3-2503-4b1b-daa2-48063a3b1973",
        "colab": {
          "base_uri": "https://localhost:8080/"
        }
      },
      "outputs": [
        {
          "output_type": "stream",
          "name": "stdout",
          "text": [
            "The flag was correct. Congrats!\n"
          ]
        }
      ],
      "source": [
        "import requests\n",
        "\n",
        "\n",
        "def submit_flag(flag):\n",
        "    url = f\"{CRUCIBLE_URL}/api/challenges/{CHALLENGE}/submit-flag\"\n",
        "    headers = {\"X-API-Key\": CRUCIBLE_API_KEY}\n",
        "    payload = {\"challenge\": CHALLENGE, \"flag\": flag}\n",
        "    response = requests.post(url, headers=headers, json=payload)\n",
        "    if response.status_code == 200:\n",
        "        if response.json().get(\"correct\") is True:\n",
        "            print(\"The flag was correct. Congrats!\")\n",
        "        else:\n",
        "            print(\"The flag was incorrect. Keep trying!\")\n",
        "    else:\n",
        "        print(\"There was an error submitting your flag\")\n",
        "        print(response.text)\n",
        "\n",
        "\n",
        "FLAG = \"gAAAAABnICXGTgzB_NvHXSgWeyCZuDmgvFEBMnAx8ZuPlhQ7L_pvdwmbAkIVRLdLcIX74aLrJ60oWyCWiwarVFD6BGR8vF3DDmeiugwYrdRuiwpyXya41G-wrgAKAYjxfR77u-UpWGSkYR5IxoEApD_h8fWOaOoAcw==\"  # Replace with the flag once you find it\n",
        "submit_flag(FLAG)"
      ]
    },
    {
      "cell_type": "markdown",
      "id": "d1157978",
      "metadata": {
        "id": "d1157978"
      },
      "source": [
        "## Supplemental Materials\n",
        "\n",
        "Use these materials for help solving the challenge."
      ]
    },
    {
      "cell_type": "markdown",
      "id": "placeholder_markdown",
      "metadata": {
        "id": "placeholder_markdown"
      },
      "source": [
        "### Helper Functions"
      ]
    },
    {
      "cell_type": "code",
      "execution_count": null,
      "id": "placeholder_code",
      "metadata": {
        "id": "placeholder_code"
      },
      "outputs": [],
      "source": [
        "print(\"Put your code here\")"
      ]
    }
  ],
  "metadata": {
    "kernelspec": {
      "display_name": ".venv",
      "language": "python",
      "name": "python3"
    },
    "language_info": {
      "name": "python",
      "version": "3.11.0"
    },
    "colab": {
      "provenance": [],
      "include_colab_link": true
    }
  },
  "nbformat": 4,
  "nbformat_minor": 5
}